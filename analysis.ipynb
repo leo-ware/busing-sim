{
 "cells": [
  {
   "cell_type": "code",
   "execution_count": 40,
   "source": [
    "import pandas as pd\n",
    "import numpy as np\n",
    "import matplotlib.pyplot as plt\n",
    "from scipy import stats"
   ],
   "outputs": [],
   "metadata": {
    "collapsed": true
   }
  },
  {
   "cell_type": "markdown",
   "source": [
    "# Preprocessing"
   ],
   "metadata": {}
  },
  {
   "cell_type": "code",
   "execution_count": 41,
   "source": [
    "path = \"/Users/leoware/PycharmProjects/Bus Simulation/data/sim_2021-09-23_22:36:10.859564/log_5_0__2021-09-23 22:36:10.860002.csv\"\n",
    "\n",
    "df_raw = pd.read_csv(path)\n",
    "for col in [\"object_type\", \"action\", \"status\"]:\n",
    "    df_raw[col] = df_raw[col].astype(\"category\")\n",
    "\n",
    "df_raw[\"data\"] = pd.to_numeric(df_raw[\"data\"].replace(\"None\", \"\"))\n",
    "\n",
    "df_raw.info()"
   ],
   "outputs": [
    {
     "output_type": "stream",
     "name": "stdout",
     "text": [
      "<class 'pandas.core.frame.DataFrame'>\n",
      "RangeIndex: 39075 entries, 0 to 39074\n",
      "Data columns (total 7 columns):\n",
      " #   Column       Non-Null Count  Dtype   \n",
      "---  ------       --------------  -----   \n",
      " 0   event_id     39075 non-null  int64   \n",
      " 1   time         39075 non-null  float64 \n",
      " 2   object_type  39075 non-null  category\n",
      " 3   object_id    39075 non-null  int64   \n",
      " 4   action       39075 non-null  category\n",
      " 5   status       39075 non-null  category\n",
      " 6   data         1219 non-null   float64 \n",
      "dtypes: category(3), float64(2), int64(2)\n",
      "memory usage: 1.3 MB\n"
     ]
    }
   ],
   "metadata": {}
  },
  {
   "cell_type": "code",
   "execution_count": 42,
   "source": [
    "# there are two copies of each event, one logged on dispath and one logged on completion\n",
    "# we want to merge these together\n",
    "dispatched = (df_raw[df_raw[\"status\"] == \"DISPATCHED\"]\n",
    "    .rename(columns={\"time\": \"dispatch_time\"})\n",
    "    .drop(\"status\", axis=1))\n",
    "\n",
    "# just take event_id and time from this one\n",
    "finished = (df_raw[df_raw[\"status\"] == \"FINISHED\"][[\"event_id\", \"time\"]]\n",
    "    .rename(columns={\"time\": \"finish_time\"}))\n",
    "\n",
    "# merge them back together to get start and end times for every event\n",
    "df = (pd.merge(dispatched, finished, how=\"left\", on=\"event_id\")\n",
    "            [[\"event_id\", \"action\", \"object_type\", \"object_id\", \"dispatch_time\", \"finish_time\", \"data\"]])\n",
    "\n",
    "# drop events that were in progress when the sim ended\n",
    "df = df[df[\"finish_time\"].notna()]\n",
    "\n",
    "df.info()"
   ],
   "outputs": [
    {
     "output_type": "stream",
     "name": "stdout",
     "text": [
      "<class 'pandas.core.frame.DataFrame'>\n",
      "Int64Index: 19334 entries, 0 to 19738\n",
      "Data columns (total 7 columns):\n",
      " #   Column         Non-Null Count  Dtype   \n",
      "---  ------         --------------  -----   \n",
      " 0   event_id       19334 non-null  int64   \n",
      " 1   action         19334 non-null  category\n",
      " 2   object_type    19334 non-null  category\n",
      " 3   object_id      19334 non-null  int64   \n",
      " 4   dispatch_time  19334 non-null  float64 \n",
      " 5   finish_time    19334 non-null  float64 \n",
      " 6   data           602 non-null    float64 \n",
      "dtypes: category(2), float64(3), int64(2)\n",
      "memory usage: 944.5 KB\n"
     ]
    }
   ],
   "metadata": {}
  },
  {
   "cell_type": "code",
   "execution_count": 43,
   "source": [
    "df[(df['object_type'] == 'Passenger') & (df['object_id'] == 3)]"
   ],
   "outputs": [
    {
     "output_type": "execute_result",
     "data": {
      "text/html": [
       "<div>\n",
       "<style scoped>\n",
       "    .dataframe tbody tr th:only-of-type {\n",
       "        vertical-align: middle;\n",
       "    }\n",
       "\n",
       "    .dataframe tbody tr th {\n",
       "        vertical-align: top;\n",
       "    }\n",
       "\n",
       "    .dataframe thead th {\n",
       "        text-align: right;\n",
       "    }\n",
       "</style>\n",
       "<table border=\"1\" class=\"dataframe\">\n",
       "  <thead>\n",
       "    <tr style=\"text-align: right;\">\n",
       "      <th></th>\n",
       "      <th>event_id</th>\n",
       "      <th>action</th>\n",
       "      <th>object_type</th>\n",
       "      <th>object_id</th>\n",
       "      <th>dispatch_time</th>\n",
       "      <th>finish_time</th>\n",
       "      <th>data</th>\n",
       "    </tr>\n",
       "  </thead>\n",
       "  <tbody>\n",
       "    <tr>\n",
       "      <th>41</th>\n",
       "      <td>1041</td>\n",
       "      <td>JOIN_QUEUE</td>\n",
       "      <td>Passenger</td>\n",
       "      <td>3</td>\n",
       "      <td>0.717705</td>\n",
       "      <td>10.717705</td>\n",
       "      <td>NaN</td>\n",
       "    </tr>\n",
       "    <tr>\n",
       "      <th>66</th>\n",
       "      <td>1066</td>\n",
       "      <td>PASSENGER_EMBARK</td>\n",
       "      <td>Passenger</td>\n",
       "      <td>3</td>\n",
       "      <td>3.101129</td>\n",
       "      <td>3.101129</td>\n",
       "      <td>NaN</td>\n",
       "    </tr>\n",
       "    <tr>\n",
       "      <th>255</th>\n",
       "      <td>1255</td>\n",
       "      <td>PASSENGER_DISEMBARK</td>\n",
       "      <td>Passenger</td>\n",
       "      <td>3</td>\n",
       "      <td>12.615737</td>\n",
       "      <td>12.691305</td>\n",
       "      <td>11.9736</td>\n",
       "    </tr>\n",
       "  </tbody>\n",
       "</table>\n",
       "</div>"
      ],
      "text/plain": [
       "     event_id               action object_type  object_id  dispatch_time  \\\n",
       "41       1041           JOIN_QUEUE   Passenger          3       0.717705   \n",
       "66       1066     PASSENGER_EMBARK   Passenger          3       3.101129   \n",
       "255      1255  PASSENGER_DISEMBARK   Passenger          3      12.615737   \n",
       "\n",
       "     finish_time     data  \n",
       "41     10.717705      NaN  \n",
       "66      3.101129      NaN  \n",
       "255    12.691305  11.9736  "
      ]
     },
     "metadata": {},
     "execution_count": 43
    }
   ],
   "metadata": {}
  },
  {
   "cell_type": "markdown",
   "source": [
    "# Event Durations"
   ],
   "metadata": {}
  },
  {
   "cell_type": "code",
   "execution_count": 44,
   "source": [
    "df['duration'] = df['finish_time'] - df['dispatch_time']\n",
    "plt.hist(df[df[\"action\"] == \"PASSENGER_DISEMBARK\"]['duration'], bins=30)\n",
    "plt.show()"
   ],
   "outputs": [
    {
     "output_type": "display_data",
     "data": {
      "image/png": "[encoded data removed]",
      "text/plain": [
       "<Figure size 432x288 with 1 Axes>"
      ]
     },
     "metadata": {
      "needs_background": "light"
     }
    }
   ],
   "metadata": {}
  },
  {
   "cell_type": "markdown",
   "source": [
    "# Transit Times"
   ],
   "metadata": {}
  },
  {
   "cell_type": "code",
   "execution_count": 45,
   "source": [
    "def number_over_time(X, Y, y_label):\n",
    "    fig, (ax1, ax2) = plt.subplots(ncols=2, figsize=(12, 4))\n",
    "\n",
    "    ax1.hist(Y, weights=np.ones_like(Y)/Y.size)\n",
    "    ax1.set_xlabel(y_label)\n",
    "    ax1.set_ylabel(\"frequency\")\n",
    "\n",
    "    mx = 0.5\n",
    "    ax1.vlines(Y.mean(), 0, mx, colors=\"black\")\n",
    "    ax1.vlines(np.percentile(Y, 5), 0, mx, colors=\"black\", linestyles=\"dashed\")\n",
    "    ax1.vlines(np.percentile(Y, 95), 0, mx, colors=\"black\", linestyles=\"dashed\")\n",
    "\n",
    "    ax2.scatter(X, Y, alpha=0.3)\n",
    "    ax2.set_xlabel(\"sim time\")\n",
    "    ax2.set_ylabel(y_label)\n",
    "\n",
    "    return fig\n",
    "\n",
    "disembarks = df[df[\"action\"] == \"PASSENGER_DISEMBARK\"]\n",
    "fig = number_over_time(disembarks[\"finish_time\"], disembarks[\"data\"], \"transit time\")\n",
    "fig.suptitle(\"Transit Times Experienced by Passengers\")\n",
    "fig.show()"
   ],
   "outputs": [
    {
     "output_type": "stream",
     "name": "stderr",
     "text": [
      "/var/folders/7_/t6r6q2tn0mv_rnygf2k3bbtm0000gn/T/ipykernel_53756/4037019653.py:22: UserWarning: Matplotlib is currently using module://matplotlib_inline.backend_inline, which is a non-GUI backend, so cannot show the figure.\n",
      "  fig.show()\n"
     ]
    },
    {
     "output_type": "display_data",
     "data": {
      "image/png": "[encoded data removed]",
      "text/plain": [
       "<Figure size 864x288 with 2 Axes>"
      ]
     },
     "metadata": {
      "needs_background": "light"
     }
    }
   ],
   "metadata": {}
  },
  {
   "cell_type": "markdown",
   "source": [
    "# Queue Lengths"
   ],
   "metadata": {}
  },
  {
   "cell_type": "code",
   "execution_count": 46,
   "source": [
    "queue_len = df[df[\"action\"] == \"REPORT_QUEUE_LENGTH\"]\n",
    "fig = number_over_time(queue_len[\"finish_time\"], queue_len[\"data\"], \"queue length\")\n",
    "fig.suptitle(\"Queue Lengths Experienced by Passengers\")\n",
    "fig.show()"
   ],
   "outputs": [
    {
     "output_type": "stream",
     "name": "stderr",
     "text": [
      "/var/folders/7_/t6r6q2tn0mv_rnygf2k3bbtm0000gn/T/ipykernel_53756/1892597517.py:4: UserWarning: Matplotlib is currently using module://matplotlib_inline.backend_inline, which is a non-GUI backend, so cannot show the figure.\n",
      "  fig.show()\n"
     ]
    },
    {
     "output_type": "display_data",
     "data": {
      "image/png": "[encoded data removed]",
      "text/plain": [
       "<Figure size 864x288 with 2 Axes>"
      ]
     },
     "metadata": {
      "needs_background": "light"
     }
    }
   ],
   "metadata": {}
  },
  {
   "cell_type": "code",
   "execution_count": 47,
   "source": [
    "from math import pi\n",
    "\n",
    "X = np.linspace(0, 48, 1000)\n",
    "Y = 1/(1.2 + np.cos(pi * (X - 7) / 6))\n",
    "plt.plot(X, Y)"
   ],
   "outputs": [
    {
     "output_type": "execute_result",
     "data": {
      "text/plain": [
       "[<matplotlib.lines.Line2D at 0x11074e400>]"
      ]
     },
     "metadata": {},
     "execution_count": 47
    },
    {
     "output_type": "display_data",
     "data": {
      "image/png": "[encoded data removed]",
      "text/plain": [
       "<Figure size 432x288 with 1 Axes>"
      ]
     },
     "metadata": {
      "needs_background": "light"
     }
    }
   ],
   "metadata": {}
  },
  {
   "cell_type": "code",
   "execution_count": 48,
   "source": [
    "print(df.info())\n",
    "\n",
    "plt.hist(df[\"action\"])\n",
    "plt.xticks(rotation=90)\n",
    "plt.show()"
   ],
   "outputs": [
    {
     "output_type": "stream",
     "name": "stdout",
     "text": [
      "<class 'pandas.core.frame.DataFrame'>\n",
      "Int64Index: 19334 entries, 0 to 19738\n",
      "Data columns (total 8 columns):\n",
      " #   Column         Non-Null Count  Dtype   \n",
      "---  ------         --------------  -----   \n",
      " 0   event_id       19334 non-null  int64   \n",
      " 1   action         19334 non-null  category\n",
      " 2   object_type    19334 non-null  category\n",
      " 3   object_id      19334 non-null  int64   \n",
      " 4   dispatch_time  19334 non-null  float64 \n",
      " 5   finish_time    19334 non-null  float64 \n",
      " 6   data           602 non-null    float64 \n",
      " 7   duration       19334 non-null  float64 \n",
      "dtypes: category(2), float64(4), int64(2)\n",
      "memory usage: 1.1 MB\n",
      "None\n"
     ]
    },
    {
     "output_type": "display_data",
     "data": {
      "image/png": "[encoded data removed]",
      "text/plain": [
       "<Figure size 432x288 with 1 Axes>"
      ]
     },
     "metadata": {
      "needs_background": "light"
     }
    }
   ],
   "metadata": {}
  },
  {
   "cell_type": "code",
   "execution_count": 49,
   "source": [
    "plt.hist(df[df[\"action\"] == \"BUS_EMBARK\"][\"duration\"], bins=40)\n",
    "\n",
    "df[df[\"action\"] == \"BUS_EMBARK\"][\"duration\"].unique()"
   ],
   "outputs": [
    {
     "output_type": "execute_result",
     "data": {
      "text/plain": [
       "array([0.])"
      ]
     },
     "metadata": {},
     "execution_count": 49
    },
    {
     "output_type": "display_data",
     "data": {
      "image/png": "[encoded data removed]",
      "text/plain": [
       "<Figure size 432x288 with 1 Axes>"
      ]
     },
     "metadata": {
      "needs_background": "light"
     }
    }
   ],
   "metadata": {}
  },
  {
   "cell_type": "code",
   "execution_count": 50,
   "source": [
    "df[df[\"action\"] == \"JOIN_QUEUE\"]"
   ],
   "outputs": [
    {
     "output_type": "execute_result",
     "data": {
      "text/html": [
       "<div>\n",
       "<style scoped>\n",
       "    .dataframe tbody tr th:only-of-type {\n",
       "        vertical-align: middle;\n",
       "    }\n",
       "\n",
       "    .dataframe tbody tr th {\n",
       "        vertical-align: top;\n",
       "    }\n",
       "\n",
       "    .dataframe thead th {\n",
       "        text-align: right;\n",
       "    }\n",
       "</style>\n",
       "<table border=\"1\" class=\"dataframe\">\n",
       "  <thead>\n",
       "    <tr style=\"text-align: right;\">\n",
       "      <th></th>\n",
       "      <th>event_id</th>\n",
       "      <th>action</th>\n",
       "      <th>object_type</th>\n",
       "      <th>object_id</th>\n",
       "      <th>dispatch_time</th>\n",
       "      <th>finish_time</th>\n",
       "      <th>data</th>\n",
       "      <th>duration</th>\n",
       "    </tr>\n",
       "  </thead>\n",
       "  <tbody>\n",
       "    <tr>\n",
       "      <th>35</th>\n",
       "      <td>1035</td>\n",
       "      <td>JOIN_QUEUE</td>\n",
       "      <td>Passenger</td>\n",
       "      <td>0</td>\n",
       "      <td>0.020250</td>\n",
       "      <td>10.020250</td>\n",
       "      <td>NaN</td>\n",
       "      <td>10.0</td>\n",
       "    </tr>\n",
       "    <tr>\n",
       "      <th>37</th>\n",
       "      <td>1037</td>\n",
       "      <td>JOIN_QUEUE</td>\n",
       "      <td>Passenger</td>\n",
       "      <td>1</td>\n",
       "      <td>0.143226</td>\n",
       "      <td>10.143226</td>\n",
       "      <td>NaN</td>\n",
       "      <td>10.0</td>\n",
       "    </tr>\n",
       "    <tr>\n",
       "      <th>39</th>\n",
       "      <td>1039</td>\n",
       "      <td>JOIN_QUEUE</td>\n",
       "      <td>Passenger</td>\n",
       "      <td>2</td>\n",
       "      <td>0.360362</td>\n",
       "      <td>10.360362</td>\n",
       "      <td>NaN</td>\n",
       "      <td>10.0</td>\n",
       "    </tr>\n",
       "    <tr>\n",
       "      <th>41</th>\n",
       "      <td>1041</td>\n",
       "      <td>JOIN_QUEUE</td>\n",
       "      <td>Passenger</td>\n",
       "      <td>3</td>\n",
       "      <td>0.717705</td>\n",
       "      <td>10.717705</td>\n",
       "      <td>NaN</td>\n",
       "      <td>10.0</td>\n",
       "    </tr>\n",
       "    <tr>\n",
       "      <th>43</th>\n",
       "      <td>1043</td>\n",
       "      <td>JOIN_QUEUE</td>\n",
       "      <td>Passenger</td>\n",
       "      <td>4</td>\n",
       "      <td>0.870557</td>\n",
       "      <td>10.870557</td>\n",
       "      <td>NaN</td>\n",
       "      <td>10.0</td>\n",
       "    </tr>\n",
       "    <tr>\n",
       "      <th>...</th>\n",
       "      <td>...</td>\n",
       "      <td>...</td>\n",
       "      <td>...</td>\n",
       "      <td>...</td>\n",
       "      <td>...</td>\n",
       "      <td>...</td>\n",
       "      <td>...</td>\n",
       "      <td>...</td>\n",
       "    </tr>\n",
       "    <tr>\n",
       "      <th>15727</th>\n",
       "      <td>16727</td>\n",
       "      <td>JOIN_QUEUE</td>\n",
       "      <td>Passenger</td>\n",
       "      <td>449</td>\n",
       "      <td>108.755001</td>\n",
       "      <td>118.755001</td>\n",
       "      <td>NaN</td>\n",
       "      <td>10.0</td>\n",
       "    </tr>\n",
       "    <tr>\n",
       "      <th>15887</th>\n",
       "      <td>16887</td>\n",
       "      <td>JOIN_QUEUE</td>\n",
       "      <td>Passenger</td>\n",
       "      <td>450</td>\n",
       "      <td>109.204706</td>\n",
       "      <td>119.204706</td>\n",
       "      <td>NaN</td>\n",
       "      <td>10.0</td>\n",
       "    </tr>\n",
       "    <tr>\n",
       "      <th>15987</th>\n",
       "      <td>16987</td>\n",
       "      <td>JOIN_QUEUE</td>\n",
       "      <td>Passenger</td>\n",
       "      <td>451</td>\n",
       "      <td>109.434433</td>\n",
       "      <td>119.434433</td>\n",
       "      <td>NaN</td>\n",
       "      <td>10.0</td>\n",
       "    </tr>\n",
       "    <tr>\n",
       "      <th>16051</th>\n",
       "      <td>17051</td>\n",
       "      <td>JOIN_QUEUE</td>\n",
       "      <td>Passenger</td>\n",
       "      <td>452</td>\n",
       "      <td>109.629533</td>\n",
       "      <td>119.629533</td>\n",
       "      <td>NaN</td>\n",
       "      <td>10.0</td>\n",
       "    </tr>\n",
       "    <tr>\n",
       "      <th>16086</th>\n",
       "      <td>17086</td>\n",
       "      <td>JOIN_QUEUE</td>\n",
       "      <td>Passenger</td>\n",
       "      <td>453</td>\n",
       "      <td>109.770140</td>\n",
       "      <td>119.770140</td>\n",
       "      <td>NaN</td>\n",
       "      <td>10.0</td>\n",
       "    </tr>\n",
       "  </tbody>\n",
       "</table>\n",
       "<p>454 rows × 8 columns</p>\n",
       "</div>"
      ],
      "text/plain": [
       "       event_id      action object_type  object_id  dispatch_time  \\\n",
       "35         1035  JOIN_QUEUE   Passenger          0       0.020250   \n",
       "37         1037  JOIN_QUEUE   Passenger          1       0.143226   \n",
       "39         1039  JOIN_QUEUE   Passenger          2       0.360362   \n",
       "41         1041  JOIN_QUEUE   Passenger          3       0.717705   \n",
       "43         1043  JOIN_QUEUE   Passenger          4       0.870557   \n",
       "...         ...         ...         ...        ...            ...   \n",
       "15727     16727  JOIN_QUEUE   Passenger        449     108.755001   \n",
       "15887     16887  JOIN_QUEUE   Passenger        450     109.204706   \n",
       "15987     16987  JOIN_QUEUE   Passenger        451     109.434433   \n",
       "16051     17051  JOIN_QUEUE   Passenger        452     109.629533   \n",
       "16086     17086  JOIN_QUEUE   Passenger        453     109.770140   \n",
       "\n",
       "       finish_time  data  duration  \n",
       "35       10.020250   NaN      10.0  \n",
       "37       10.143226   NaN      10.0  \n",
       "39       10.360362   NaN      10.0  \n",
       "41       10.717705   NaN      10.0  \n",
       "43       10.870557   NaN      10.0  \n",
       "...            ...   ...       ...  \n",
       "15727   118.755001   NaN      10.0  \n",
       "15887   119.204706   NaN      10.0  \n",
       "15987   119.434433   NaN      10.0  \n",
       "16051   119.629533   NaN      10.0  \n",
       "16086   119.770140   NaN      10.0  \n",
       "\n",
       "[454 rows x 8 columns]"
      ]
     },
     "metadata": {},
     "execution_count": 50
    }
   ],
   "metadata": {}
  },
  {
   "cell_type": "code",
   "execution_count": null,
   "source": [],
   "outputs": [],
   "metadata": {}
  }
 ],
 "metadata": {
  "kernelspec": {
   "name": "python3",
   "display_name": "Python 3.9.0 64-bit ('venv': venv)"
  },
  "language_info": {
   "name": "python",
   "version": "3.9.0",
   "mimetype": "text/x-python",
   "codemirror_mode": {
    "name": "ipython",
    "version": 3
   },
   "pygments_lexer": "ipython3",
   "nbconvert_exporter": "python",
   "file_extension": ".py"
  },
  "interpreter": {
   "hash": "f431971f0aaf3767d25ee7ab6fef03f4339409910329472a457a7012a1114ec6"
  }
 },
 "nbformat": 4,
 "nbformat_minor": 2
}