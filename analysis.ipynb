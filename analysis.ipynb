{
 "cells": [
  {
   "cell_type": "code",
   "execution_count": 19,
   "source": [
    "import pandas as pd\n",
    "import numpy as np\n",
    "import matplotlib.pyplot as plt"
   ],
   "outputs": [],
   "metadata": {
    "collapsed": true
   }
  },
  {
   "cell_type": "code",
   "execution_count": 20,
   "source": [
    "path = \"/Users/leoware/PycharmProjects/Bus Simulation/data/sim_2021-09-22_22:17:30.567152/log_15buses_#0__2021-09-22 22:17:30.567981.csv\"\n",
    "\n",
    "df_raw = pd.read_csv(path)\n",
    "for col in [\"object_type\", \"action\", \"status\"]:\n",
    "    df_raw[col] = df_raw[col].astype(\"category\")\n",
    "\n",
    "df_raw.info()"
   ],
   "outputs": [
    {
     "output_type": "stream",
     "name": "stdout",
     "text": [
      "<class 'pandas.core.frame.DataFrame'>\n",
      "RangeIndex: 20834 entries, 0 to 20833\n",
      "Data columns (total 6 columns):\n",
      " #   Column       Non-Null Count  Dtype   \n",
      "---  ------       --------------  -----   \n",
      " 0   event_id     20834 non-null  int64   \n",
      " 1   time         20834 non-null  float64 \n",
      " 2   object_type  20834 non-null  category\n",
      " 3   object_id    20834 non-null  int64   \n",
      " 4   action       20834 non-null  category\n",
      " 5   status       20834 non-null  category\n",
      "dtypes: category(3), float64(1), int64(2)\n",
      "memory usage: 549.9 KB\n"
     ]
    }
   ],
   "metadata": {}
  },
  {
   "cell_type": "markdown",
   "source": [
    "## investigating wait times"
   ],
   "metadata": {}
  },
  {
   "cell_type": "code",
   "execution_count": 24,
   "source": [
    "dispatched = (df_raw[df_raw[\"status\"] == \"DISPATCHED\"]\n",
    "    .rename(columns={\"time\": \"dispatch_time\"})\n",
    "    .drop(\"status\", axis=1))\n",
    "\n",
    "# just take event_id and time from this one\n",
    "finished = (df_raw[df_raw[\"status\"] == \"FINISHED\"][[\"event_id\", \"time\"]]\n",
    "    .rename(columns={\"time\": \"finish_time\"}))\n",
    "\n",
    "# merge them back together to get start and end times for every event\n",
    "# events that were in progress when the sim ended are droped\n",
    "df = (pd.merge(dispatched, finished, how=\"left\", on=\"event_id\")\n",
    "            .dropna()\n",
    "            [[\"event_id\", \"action\", \"object_type\", \"object_id\", \"dispatch_time\", \"finish_time\"]])\n",
    "\n",
    "df.info()"
   ],
   "outputs": [
    {
     "output_type": "stream",
     "name": "stdout",
     "text": [
      "<class 'pandas.core.frame.DataFrame'>\n",
      "Int64Index: 10000 entries, 0 to 10831\n",
      "Data columns (total 6 columns):\n",
      " #   Column         Non-Null Count  Dtype   \n",
      "---  ------         --------------  -----   \n",
      " 0   event_id       10000 non-null  int64   \n",
      " 1   action         10000 non-null  category\n",
      " 2   object_type    10000 non-null  category\n",
      " 3   object_id      10000 non-null  int64   \n",
      " 4   dispatch_time  10000 non-null  float64 \n",
      " 5   finish_time    10000 non-null  float64 \n",
      "dtypes: category(2), float64(2), int64(2)\n",
      "memory usage: 410.5 KB\n"
     ]
    }
   ],
   "metadata": {}
  },
  {
   "cell_type": "code",
   "execution_count": 29,
   "source": [
    "df[(df['object_type'] == 'Passenger') & (df['object_id'] == 3)]"
   ],
   "outputs": [
    {
     "output_type": "execute_result",
     "data": {
      "text/html": [
       "<div>\n",
       "<style scoped>\n",
       "    .dataframe tbody tr th:only-of-type {\n",
       "        vertical-align: middle;\n",
       "    }\n",
       "\n",
       "    .dataframe tbody tr th {\n",
       "        vertical-align: top;\n",
       "    }\n",
       "\n",
       "    .dataframe thead th {\n",
       "        text-align: right;\n",
       "    }\n",
       "</style>\n",
       "<table border=\"1\" class=\"dataframe\">\n",
       "  <thead>\n",
       "    <tr style=\"text-align: right;\">\n",
       "      <th></th>\n",
       "      <th>event_id</th>\n",
       "      <th>action</th>\n",
       "      <th>object_type</th>\n",
       "      <th>object_id</th>\n",
       "      <th>dispatch_time</th>\n",
       "      <th>finish_time</th>\n",
       "    </tr>\n",
       "  </thead>\n",
       "  <tbody>\n",
       "    <tr>\n",
       "      <th>36</th>\n",
       "      <td>1036</td>\n",
       "      <td>JOIN_QUEUE</td>\n",
       "      <td>Passenger</td>\n",
       "      <td>3</td>\n",
       "      <td>0.288121</td>\n",
       "      <td>0.288121</td>\n",
       "    </tr>\n",
       "    <tr>\n",
       "      <th>106</th>\n",
       "      <td>1106</td>\n",
       "      <td>EMBARK</td>\n",
       "      <td>Passenger</td>\n",
       "      <td>3</td>\n",
       "      <td>1.953043</td>\n",
       "      <td>1.953043</td>\n",
       "    </tr>\n",
       "    <tr>\n",
       "      <th>276</th>\n",
       "      <td>1276</td>\n",
       "      <td>DISEMBARK</td>\n",
       "      <td>Passenger</td>\n",
       "      <td>3</td>\n",
       "      <td>4.167595</td>\n",
       "      <td>4.221734</td>\n",
       "    </tr>\n",
       "  </tbody>\n",
       "</table>\n",
       "</div>"
      ],
      "text/plain": [
       "     event_id      action object_type  object_id  dispatch_time  finish_time\n",
       "36       1036  JOIN_QUEUE   Passenger          3       0.288121     0.288121\n",
       "106      1106      EMBARK   Passenger          3       1.953043     1.953043\n",
       "276      1276   DISEMBARK   Passenger          3       4.167595     4.221734"
      ]
     },
     "metadata": {},
     "execution_count": 29
    }
   ],
   "metadata": {}
  },
  {
   "cell_type": "code",
   "execution_count": 47,
   "source": [
    "df['duration'] = df['finish_time'] - df['dispatch_time']\n",
    "plt.hist(df[\n",
    "    (df[\"action\"] == \"DISEMBARK\") &\n",
    "    (df[\"object_type\"] == \"Passenger\")\n",
    "    ]['duration'], bins=30)\n",
    "plt.show()"
   ],
   "outputs": [
    {
     "output_type": "display_data",
     "data": {
      "image/png": "[encoded data removed]",
      "text/plain": [
       "<Figure size 432x288 with 1 Axes>"
      ]
     },
     "metadata": {
      "needs_background": "light"
     }
    }
   ],
   "metadata": {}
  },
  {
   "cell_type": "code",
   "execution_count": null,
   "source": [],
   "outputs": [],
   "metadata": {}
  }
 ],
 "metadata": {
  "kernelspec": {
   "name": "python3",
   "display_name": "Python 3.9.0 64-bit ('venv': venv)"
  },
  "language_info": {
   "name": "python",
   "version": "3.9.0",
   "mimetype": "text/x-python",
   "codemirror_mode": {
    "name": "ipython",
    "version": 3
   },
   "pygments_lexer": "ipython3",
   "nbconvert_exporter": "python",
   "file_extension": ".py"
  },
  "interpreter": {
   "hash": "f431971f0aaf3767d25ee7ab6fef03f4339409910329472a457a7012a1114ec6"
  }
 },
 "nbformat": 4,
 "nbformat_minor": 2
}